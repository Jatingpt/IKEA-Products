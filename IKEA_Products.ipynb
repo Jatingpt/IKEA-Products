{
  "nbformat": 4,
  "nbformat_minor": 0,
  "metadata": {
    "colab": {
      "provenance": [],
      "authorship_tag": "ABX9TyPQludsRyiDH6YZg9LyVYo8",
      "include_colab_link": true
    },
    "kernelspec": {
      "name": "python3",
      "display_name": "Python 3"
    },
    "language_info": {
      "name": "python"
    }
  },
  "cells": [
    {
      "cell_type": "markdown",
      "metadata": {
        "id": "view-in-github",
        "colab_type": "text"
      },
      "source": [
        "<a href=\"https://colab.research.google.com/github/Jatingpt/IKEA-Products/blob/main/IKEA_Products.ipynb\" target=\"_parent\"><img src=\"https://colab.research.google.com/assets/colab-badge.svg\" alt=\"Open In Colab\"/></a>"
      ]
    },
    {
      "cell_type": "markdown",
      "source": [
        "##**The file contains data on various IKEA products, including name, category, price, old_price, sellable_online, link, other_colors, short_description, designer, depth, height, and width. This dataset can be used to study how consumer behavior changes in response to short-term price changes, or to compare IKEA's prices to its competitors**\n",
        "\n",
        "\n",
        "##Columns in the dataset.\n",
        "\n",
        "*   name: The name of the IKEA product. (String)\n",
        "*   category: The category of the IKEA product. (String)\n",
        "*   price: The price of the IKEA product. (Float)\n",
        "*   old_price: The old price of the IKEA product. (Float)\n",
        "*   sellable_online: Whether or not the IKEA product is sellable online. (Boolean)\n",
        "*   link: A link to the IKEA product. (String)\n",
        "*   other_colors: Other colors that the IKEA product is available in. (String)\n",
        "*   short_description: A short description of the IKEA product. (String)\n",
        "*   designer: The designer of the IKEA product. (String)\n",
        "*   depth: The depth of the IKEA product. (Float)\n",
        "*   height: The height of the IKEA product. (Float)\n",
        "\n",
        "\n",
        "##Importing the data."
      ],
      "metadata": {
        "id": "kjE1D-OQpQco"
      }
    },
    {
      "cell_type": "code",
      "execution_count": null,
      "metadata": {
        "id": "SvolC0RIo_PP"
      },
      "outputs": [],
      "source": [
        "file_path = \" \""
      ]
    }
  ]
}